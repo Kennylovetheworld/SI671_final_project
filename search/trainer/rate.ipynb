{
 "cells": [
  {
   "cell_type": "code",
   "execution_count": 1,
   "metadata": {},
   "outputs": [
    {
     "data": {
      "text/html": [
       "<div>\n",
       "<style scoped>\n",
       "    .dataframe tbody tr th:only-of-type {\n",
       "        vertical-align: middle;\n",
       "    }\n",
       "\n",
       "    .dataframe tbody tr th {\n",
       "        vertical-align: top;\n",
       "    }\n",
       "\n",
       "    .dataframe thead th {\n",
       "        text-align: right;\n",
       "    }\n",
       "</style>\n",
       "<table border=\"1\" class=\"dataframe\">\n",
       "  <thead>\n",
       "    <tr style=\"text-align: right;\">\n",
       "      <th></th>\n",
       "      <th>uid</th>\n",
       "      <th>gid</th>\n",
       "      <th>playtime</th>\n",
       "    </tr>\n",
       "  </thead>\n",
       "  <tbody>\n",
       "    <tr>\n",
       "      <th>103</th>\n",
       "      <td>76561197970982479</td>\n",
       "      <td>21970</td>\n",
       "      <td>64</td>\n",
       "    </tr>\n",
       "    <tr>\n",
       "      <th>244</th>\n",
       "      <td>76561197970982479</td>\n",
       "      <td>294860</td>\n",
       "      <td>1735</td>\n",
       "    </tr>\n",
       "    <tr>\n",
       "      <th>359</th>\n",
       "      <td>js41637</td>\n",
       "      <td>33220</td>\n",
       "      <td>48</td>\n",
       "    </tr>\n",
       "    <tr>\n",
       "      <th>403</th>\n",
       "      <td>js41637</td>\n",
       "      <td>22600</td>\n",
       "      <td>0</td>\n",
       "    </tr>\n",
       "    <tr>\n",
       "      <th>609</th>\n",
       "      <td>js41637</td>\n",
       "      <td>220900</td>\n",
       "      <td>47</td>\n",
       "    </tr>\n",
       "  </tbody>\n",
       "</table>\n",
       "</div>"
      ],
      "text/plain": [
       "                   uid     gid  playtime\n",
       "103  76561197970982479   21970        64\n",
       "244  76561197970982479  294860      1735\n",
       "359            js41637   33220        48\n",
       "403            js41637   22600         0\n",
       "609            js41637  220900        47"
      ]
     },
     "execution_count": 1,
     "metadata": {},
     "output_type": "execute_result"
    }
   ],
   "source": [
    "import random\n",
    "import pandas as pd\n",
    "random.seed(671)\n",
    "\n",
    "p = 0.05\n",
    "def my_row_sampling_function(i):\n",
    "    return i>0 and random.random() > p\n",
    "df = pd.read_csv('user_game/user_game_time.csv', skiprows=my_row_sampling_function,index_col=0)\n",
    "\n",
    "df.head()"
   ]
  },
  {
   "cell_type": "markdown",
   "metadata": {},
   "source": [
    "# EDA"
   ]
  },
  {
   "cell_type": "code",
   "execution_count": 10,
   "metadata": {},
   "outputs": [
    {
     "data": {
      "image/png": "[encoded data removed]",
      "text/plain": [
       "<Figure size 432x288 with 2 Axes>"
      ]
     },
     "metadata": {},
     "output_type": "display_data"
    }
   ],
   "source": [
    "import seaborn as sns\n",
    "import numpy as np\n",
    "import matplotlib.pyplot as plt\n",
    "import matplotlib.style as style\n",
    "\n",
    "def plot_dist(df, col):\n",
    "    style.use('ggplot')\n",
    "\n",
    "    x = df[col]+0.1\n",
    "\n",
    "    plt.subplot(211)\n",
    "    hist, bins, _ = plt.hist(x, bins=15)\n",
    "\n",
    "    logbins = np.logspace(np.log10(bins[0]),np.log10(bins[-1]),len(bins))\n",
    "    plt.subplot(212)\n",
    "    plt.hist(x, bins=logbins)\n",
    "    plt.xscale('log')\n",
    "    plt.show()\n",
    "\n",
    "plot_dist(df, 'playtime')"
   ]
  },
  {
   "cell_type": "markdown",
   "metadata": {},
   "source": [
    "## Preprocessing"
   ]
  },
  {
   "cell_type": "code",
   "execution_count": 3,
   "metadata": {},
   "outputs": [],
   "source": [
    "def NormalizeData(data): # map to [0,10]\n",
    "    return (data - np.min(data)) * 10 / (np.max(data) - np.min(data))\n",
    "    \n",
    "def rescale(data):\n",
    "    return NormalizeData(np.log10(data+0.1))\n",
    "\n",
    "df['playtime_rescale'] = rescale(df['playtime'])\n",
    "utime = df"
   ]
  },
  {
   "cell_type": "code",
   "execution_count": 4,
   "metadata": {},
   "outputs": [
    {
     "data": {
      "text/plain": [
       "(10.0, 0.0)"
      ]
     },
     "execution_count": 4,
     "metadata": {},
     "output_type": "execute_result"
    }
   ],
   "source": [
    "x = utime['playtime_rescale']\n",
    "(x.max(), x.min())"
   ]
  },
  {
   "cell_type": "code",
   "execution_count": 5,
   "metadata": {},
   "outputs": [],
   "source": [
    "from surprise import Reader, Dataset\n",
    "from surprise import SVD, SVDpp, NMF, KNNWithMeans\n",
    "from surprise.model_selection import GridSearchCV\n",
    "\n",
    "results = []\n",
    "\n",
    "def run(data, algo, algo_name, params, n=2): # Perform cross validation\n",
    "    gs = GridSearchCV(algo, params, measures=['MAE'], n_jobs=8, cv=n) # perform grid search on parameters\n",
    "    gs.fit(data) # fit data\n",
    "    df = pd.DataFrame({'algo': algo_name, 'mae': gs.best_score}) # get best value with the cross validation\n",
    "    results.append(df)\n",
    "    return df, gs.best_params"
   ]
  },
  {
   "cell_type": "code",
   "execution_count": 6,
   "metadata": {},
   "outputs": [],
   "source": [
    "reader = Reader(rating_scale=(x.min(), x.max())) # a reader of rating [1,10]\n",
    "data = Dataset.load_from_df(utime[['gid', 'uid', 'playtime_rescale']], reader) # mind the order of columns"
   ]
  },
  {
   "cell_type": "code",
   "execution_count": 7,
   "metadata": {},
   "outputs": [
    {
     "data": {
      "text/plain": [
       "(    algo       mae\n",
       " mae  SVD  1.802718,\n",
       " {'mae': {'random_state': 671, 'n_epochs': 25, 'lr_all': 0.01}})"
      ]
     },
     "execution_count": 7,
     "metadata": {},
     "output_type": "execute_result"
    }
   ],
   "source": [
    "run(data, SVDpp, 'SVDpp', {\n",
    "    'random_state': [671],\n",
    "    'n_epochs': [20, 25], \n",
    "    'lr_all': [0.007, 0.01],\n",
    "}, 5) # gs scd"
   ]
  },
  {
   "cell_type": "markdown",
   "metadata": {},
   "source": [
    "# Recommend"
   ]
  },
  {
   "cell_type": "code",
   "execution_count": 11,
   "metadata": {},
   "outputs": [
    {
     "data": {
      "image/png": "[encoded data removed]",
      "text/plain": [
       "<Figure size 432x288 with 2 Axes>"
      ]
     },
     "metadata": {},
     "output_type": "display_data"
    }
   ],
   "source": [
    "rec = pd.read_csv('user_game/user_game_recommend.csv',index_col=0)\n",
    "plot_dist(rec, 'recommend')"
   ]
  },
  {
   "cell_type": "code",
   "execution_count": null,
   "metadata": {},
   "outputs": [],
   "source": [
    "reader = Reader(rating_scale=(x.min(), x.max())) # a reader of rating [1,10]\n",
    "data = Dataset.load_from_df(utime[['gid', 'uid', 'playtime_rescale']], reader) # mind the order of columns"
   ]
  }
 ],
 "metadata": {
  "kernelspec": {
   "display_name": "Python 3",
   "language": "python",
   "name": "python3"
  },
  "language_info": {
   "codemirror_mode": {
    "name": "ipython",
    "version": 3
   },
   "file_extension": ".py",
   "mimetype": "text/x-python",
   "name": "python",
   "nbconvert_exporter": "python",
   "pygments_lexer": "ipython3",
   "version": "3.7.3"
  }
 },
 "nbformat": 4,
 "nbformat_minor": 4
}
